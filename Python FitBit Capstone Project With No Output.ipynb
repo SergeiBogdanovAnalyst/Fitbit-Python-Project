{
 "cells": [
  {
   "cell_type": "code",
   "execution_count": null,
   "id": "41dbaf8e",
   "metadata": {},
   "outputs": [],
   "source": [
    "import pandas as pd\n",
    "import numpy as np\n",
    "import matplotlib.pyplot as plt"
   ]
  },
  {
   "cell_type": "markdown",
   "id": "7cd7b2fb",
   "metadata": {},
   "source": [
    "# Importing datasets\n",
    "\n",
    "For this project, I will use FitBit Fitness Tracker Data"
   ]
  },
  {
   "cell_type": "code",
   "execution_count": null,
   "id": "948403b6",
   "metadata": {},
   "outputs": [],
   "source": [
    "# Define file paths\n",
    "activity_file = '/Users/sergeibogdanov/Downloads/Data Analyst/FitBit/dailyActivity_merged.csv'\n",
    "calories_file = '/Users/sergeibogdanov/Downloads/Data Analyst/FitBit/hourlyCalories_merged.csv'\n",
    "intensities_file = '/Users/sergeibogdanov/Downloads/Data Analyst/FitBit/hourlyIntensities_merged.csv'\n",
    "sleep_file = '/Users/sergeibogdanov/Downloads/Data Analyst/FitBit/sleepDay_merged.csv'\n",
    "weight_file = '/Users/sergeibogdanov/Downloads/Data Analyst/FitBit/weightLogInfo_merged.csv'\n",
    "\n",
    "# Read the CSV files into DataFrames\n",
    "activity_df = pd.read_csv(activity_file)\n",
    "calories_df = pd.read_csv(calories_file)\n",
    "intensities_df = pd.read_csv(intensities_file)\n",
    "sleep_df = pd.read_csv(sleep_file)\n",
    "weight_df = pd.read_csv(weight_file)\n",
    "\n",
    "# Display the first few rows of each DataFrame to verify successful loading\n",
    "print(\"Activity DataFrame:\")\n",
    "print(activity_df.head())\n",
    "\n",
    "print(\"\\nCalories DataFrame:\")\n",
    "print(calories_df.head())\n",
    "\n",
    "print(\"\\nIntensities DataFrame:\")\n",
    "print(intensities_df.head())\n",
    "\n",
    "print(\"\\nSleep DataFrame:\")\n",
    "print(sleep_df.head())\n",
    "\n",
    "print(\"\\nWeight DataFrame:\")\n",
    "print(weight_df.head())\n"
   ]
  },
  {
   "cell_type": "markdown",
   "id": "bd0307bf",
   "metadata": {},
   "source": [
    "# Cleaning and formatting"
   ]
  },
  {
   "cell_type": "code",
   "execution_count": null,
   "id": "f639a999",
   "metadata": {},
   "outputs": [],
   "source": [
    "# Fix date formatting and separate date and time components\n",
    "\n",
    "# Activity DataFrame\n",
    "activity_df['ActivityDate'] = pd.to_datetime(activity_df['ActivityDate'], format='%m/%d/%y')\n",
    "activity_df['Date'] = activity_df['ActivityDate'].dt.date\n",
    "\n",
    "# Calories DataFrame\n",
    "calories_df['ActivityHour'] = pd.to_datetime(calories_df['ActivityHour'], format='%m/%d/%y %H:%M')\n",
    "calories_df['Date'] = calories_df['ActivityHour'].dt.date\n",
    "calories_df['Hour'] = calories_df['ActivityHour'].dt.time\n",
    "\n",
    "# Intensities DataFrame\n",
    "intensities_df['ActivityHour'] = pd.to_datetime(intensities_df['ActivityHour'], format='%m/%d/%y %H:%M')\n",
    "intensities_df['Date'] = intensities_df['ActivityHour'].dt.date\n",
    "intensities_df['Hour'] = intensities_df['ActivityHour'].dt.time\n",
    "\n",
    "# Sleep DataFrame\n",
    "sleep_df['SleepDay'] = pd.to_datetime(sleep_df['SleepDay'], format='%m/%d/%Y %I:%M:%S %p')\n",
    "sleep_df['Date'] = sleep_df['SleepDay'].dt.date\n",
    "\n",
    "# Weight DataFrame\n",
    "weight_df['Date'] = pd.to_datetime(weight_df['Date'], format='%m/%d/%Y %I:%M:%S %p')\n",
    "weight_df['LogDate'] = weight_df['Date'].dt.date\n",
    "weight_df['LogTime'] = weight_df['Date'].dt.time\n",
    "\n",
    "# Display the first few rows of each DataFrame to verify successful formatting\n",
    "print(\"Activity DataFrame:\")\n",
    "print(activity_df.head())\n",
    "\n",
    "print(\"\\nCalories DataFrame:\")\n",
    "print(calories_df.head())\n",
    "\n",
    "print(\"\\nIntensities DataFrame:\")\n",
    "print(intensities_df.head())\n",
    "\n",
    "print(\"\\nSleep DataFrame:\")\n",
    "print(sleep_df.head())\n",
    "\n",
    "print(\"\\nWeight DataFrame:\")\n",
    "print(weight_df.head())"
   ]
  },
  {
   "cell_type": "code",
   "execution_count": null,
   "id": "a293febc",
   "metadata": {},
   "outputs": [],
   "source": [
    "# Summary of selected columns in activity DataFrame\n",
    "activity_summary = activity_df[['TotalSteps', 'TotalDistance', 'SedentaryMinutes', 'Calories']].describe()\n",
    "print(\"Activity Summary:\\n\", activity_summary)\n",
    "\n",
    "# Summary of active minutes per category\n",
    "active_minutes_summary = activity_df[['VeryActiveMinutes', 'FairlyActiveMinutes', 'LightlyActiveMinutes']].describe()\n",
    "print(\"\\nActive Minutes Summary:\\n\", active_minutes_summary)\n",
    "\n",
    "# Summary of calories DataFrame\n",
    "calories_summary = calories_df[['Calories']].describe()\n",
    "print(\"\\nCalories Summary:\\n\", calories_summary)\n",
    "\n",
    "# Summary of sleep DataFrame\n",
    "sleep_summary = sleep_df[['TotalSleepRecords', 'TotalMinutesAsleep', 'TotalTimeInBed']].describe()\n",
    "print(\"\\nSleep Summary:\\n\", sleep_summary)\n",
    "\n",
    "# Summary of weight DataFrame\n",
    "weight_summary = weight_df[['WeightKg', 'BMI']].describe()\n",
    "print(\"\\nWeight Summary:\\n\", weight_summary)"
   ]
  },
  {
   "cell_type": "markdown",
   "id": "609291dd",
   "metadata": {},
   "source": [
    "**There are several interesting observations and potential insights that can be derived:**\n",
    "\n",
    "* People in this dataset are getting an average of about 419 minutes of sleep per night, which is roughly 7 hours. That’s not too shabby. But it’s interesting to note that some folks are getting up to 796 minutes, which is more than 13 hours!\n",
    "* On average, they’re clocking in around 7,600 steps per day, which is like taking a mini hike every day. And some folks are taking more than 36,000 steps! That’s like walking a marathon on a regular day.\n",
    "* People are burning an average of 2,304 calories per day. That’s like enjoying a big, satisfying meal without worrying too much about the calories. And some are burning up to 4,900 calories – that’s quite the workout!"
   ]
  },
  {
   "cell_type": "markdown",
   "id": "6988b257",
   "metadata": {},
   "source": [
    "# Merging Data:"
   ]
  },
  {
   "cell_type": "code",
   "execution_count": null,
   "id": "34947476",
   "metadata": {},
   "outputs": [],
   "source": [
    "# Rename SleepDay column to match ActivityDate\n",
    "sleep_df.rename(columns={'SleepDay': 'ActivityDate'}, inplace=True)\n",
    "\n",
    "# Merge DataFrames on 'Id' and 'ActivityDate'\n",
    "merged_df = pd.merge(activity_df, sleep_df, on=['Id', 'ActivityDate'], how='inner')\n",
    "\n",
    "# Display the first 5 rows of the merged DataFrame\n",
    "print(merged_df.head())"
   ]
  },
  {
   "cell_type": "markdown",
   "id": "b6cf23c8",
   "metadata": {},
   "source": [
    "This merged DataFrame can be further used for detailed analysis, such as investigating relationships between physical activity and sleep patterns."
   ]
  },
  {
   "cell_type": "markdown",
   "id": "fce3a71b",
   "metadata": {},
   "source": [
    "# Analyze phase\n",
    "\n",
    "We aim to identify user segments based on activity levels using FitBit data. Without demographic information, we will classify users based on their daily step counts. The categorization will include:\n",
    "\n",
    "* Sedentary - Less than 5000 steps a day.\n",
    "* Lightly active - Between 5000 and 7499 steps a day.\n",
    "* Fairly active - Between 7500 and 9999 steps a day.\n",
    "* Very active - More than 10000 steps a day.\n",
    "\n",
    "To begin, we will compute the average daily step count for each user."
   ]
  },
  {
   "cell_type": "code",
   "execution_count": null,
   "id": "997aad0e",
   "metadata": {},
   "outputs": [],
   "source": [
    "# Merging DataFrames\n",
    "daily_activity_sleep = pd.merge(activity_df, sleep_df, on=['Id', 'ActivityDate'])\n",
    "\n",
    "# Display the first few rows of the merged DataFrame\n",
    "print(daily_activity_sleep.head())\n",
    "\n",
    "# Grouping by 'Id' and calculating mean daily steps, calories, and sleep\n",
    "daily_average = merged_df.groupby('Id').agg(\n",
    "    mean_daily_steps=('TotalSteps', 'mean'),\n",
    "    mean_daily_calories=('Calories', 'mean'),\n",
    "    mean_daily_sleep=('TotalMinutesAsleep', 'mean')\n",
    ").reset_index()\n",
    "\n",
    "# Displaying the first few rows of the summarized DataFrame\n",
    "print(daily_average.head())"
   ]
  },
  {
   "cell_type": "markdown",
   "id": "740653c9",
   "metadata": {},
   "source": [
    "We will now classify our users by the daily average steps."
   ]
  },
  {
   "cell_type": "code",
   "execution_count": null,
   "id": "eb9c1dbb",
   "metadata": {},
   "outputs": [],
   "source": [
    "# Create daily average\n",
    "daily_average = daily_activity_sleep.groupby('Id').agg(\n",
    "    mean_daily_steps=('TotalSteps', 'mean'),\n",
    "    mean_daily_calories=('Calories', 'mean'),\n",
    "    mean_daily_sleep=('TotalMinutesAsleep', 'mean')\n",
    ").reset_index()\n",
    "\n",
    "# Classify users based on their average daily steps\n",
    "user_type = daily_average.assign(\n",
    "    user_type=np.select(\n",
    "        [\n",
    "            daily_average['mean_daily_steps'] < 5000,\n",
    "            (daily_average['mean_daily_steps'] >= 5000) & (daily_average['mean_daily_steps'] < 7499),\n",
    "            (daily_average['mean_daily_steps'] >= 7500) & (daily_average['mean_daily_steps'] < 9999),\n",
    "            daily_average['mean_daily_steps'] >= 10000\n",
    "        ],\n",
    "        [\n",
    "            \"Sedentary\",\n",
    "            \"Lightly active\",\n",
    "            \"Fairly active\",\n",
    "            \"Very active\"\n",
    "        ]\n",
    "    )\n",
    ")\n",
    "\n",
    "# Group by 'user_type' and calculate the total count for each type\n",
    "user_type_percent = user_type.groupby('user_type').size().reset_index(name='total')\n",
    "\n",
    "# Calculate the overall total for the percentages\n",
    "total_sum = user_type_percent['total'].sum()\n",
    "\n",
    "# Calculate the percentage for each user type\n",
    "user_type_percent['total_percent'] = user_type_percent['total'] / total_sum\n",
    "\n",
    "# Format the percentages as labels\n",
    "user_type_percent['labels'] = user_type_percent['total_percent'].apply(lambda x: f\"{x:.2%}\")\n",
    "\n",
    "# Ensure the 'user_type' column has the correct order\n",
    "user_type_percent['user_type'] = pd.Categorical(user_type_percent['user_type'], \n",
    "                                                categories=[\"Very active\", \"Fairly active\", \"Lightly active\", \"Sedentary\"],\n",
    "                                                ordered=True)\n",
    "\n",
    "# Display the first few rows of the DataFrame\n",
    "print(user_type_percent.head())\n"
   ]
  },
  {
   "cell_type": "markdown",
   "id": "abcd9869",
   "metadata": {},
   "source": [
    "Now that we have a new column with the user type we will create a data frame with the percentage of each user type to better visualize them on a graph."
   ]
  },
  {
   "cell_type": "code",
   "execution_count": null,
   "id": "7b21a380",
   "metadata": {},
   "outputs": [],
   "source": [
    "# Grouping by 'user_type' and calculating the total count for each type\n",
    "user_type_percent = user_type.groupby('user_type').size().reset_index(name='total')\n",
    "\n",
    "# Calculating the overall total for the percentages\n",
    "total_sum = user_type_percent['total'].sum()\n",
    "\n",
    "# Calculating the percentage for each user type\n",
    "user_type_percent['total_percent'] = user_type_percent['total'] / total_sum\n",
    "\n",
    "# Formatting the percentages as labels\n",
    "user_type_percent['labels'] = user_type_percent['total_percent'].apply(lambda x: f\"{x:.2%}\")\n",
    "\n",
    "# Ensuring the 'user_type' column has the correct order\n",
    "user_type_percent['user_type'] = pd.Categorical(user_type_percent['user_type'], \n",
    "                                                categories=[\"Very active\", \"Fairly active\", \"Lightly active\", \"Sedentary\"],\n",
    "                                                ordered=True)\n",
    "\n",
    "# Displaying the first few rows of the DataFrame\n",
    "print(user_type_percent.head())"
   ]
  },
  {
   "cell_type": "markdown",
   "id": "dd7c7a26",
   "metadata": {},
   "source": [
    "Below we can see that users are fairly distributed by their activity considering the daily amount of steps. We can determine that based on users activity all kind of users wear smart-devices."
   ]
  },
  {
   "cell_type": "code",
   "execution_count": null,
   "id": "82269cf8",
   "metadata": {},
   "outputs": [],
   "source": [
    "# Create a pie chart\n",
    "plt.figure(figsize=(10, 8))\n",
    "plt.pie(user_type_percent['total'], labels=user_type_percent['user_type'], autopct='%1.1f%%')\n",
    "plt.title('Distribution of User Types')\n",
    "plt.axis('equal')  # Equal aspect ratio ensures that pie is drawn as a circle\n",
    "plt.show()"
   ]
  },
  {
   "cell_type": "markdown",
   "id": "90f95766",
   "metadata": {},
   "source": [
    "These categories offer insights into the distribution of user activity levels within the dataset, with fairly active users being the largest group, followed by lightly active, sedentary, and very active users."
   ]
  },
  {
   "cell_type": "markdown",
   "id": "a93b517d",
   "metadata": {},
   "source": [
    "**I will now determine if there is any correlation between different variables:**\n",
    "\n",
    "Creating a scatter plot to visualize the relationship between the ‘TotalSteps’ and ‘Calories’ variables."
   ]
  },
  {
   "cell_type": "code",
   "execution_count": null,
   "id": "eff26dbc",
   "metadata": {},
   "outputs": [],
   "source": [
    "# Create a scatter plot\n",
    "plt.figure(figsize=(10, 6))\n",
    "plt.scatter(daily_activity_sleep['TotalSteps'], daily_activity_sleep['Calories'], alpha=0.5)\n",
    "plt.title('Relationship between Total Steps and Calories Burned')\n",
    "plt.xlabel('Total Steps')\n",
    "plt.ylabel('Calories Burned')\n",
    "plt.grid(True, linestyle='--', alpha=0.7)\n",
    "\n",
    "# Add a trend line\n",
    "z = np.polyfit(daily_activity_sleep['TotalSteps'], daily_activity_sleep['Calories'], 1)\n",
    "p = np.poly1d(z)\n",
    "plt.plot(daily_activity_sleep['TotalSteps'], p(daily_activity_sleep['TotalSteps']), \"r--\", alpha=0.8)\n",
    "\n",
    "plt.tight_layout()\n",
    "plt.show()\n",
    "\n",
    "# Calculate the correlation coefficient\n",
    "correlation = daily_activity_sleep['TotalSteps'].corr(daily_activity_sleep['Calories'])\n",
    "print(f\"Correlation coefficient between Total Steps and Calories: {correlation:.2f}\")"
   ]
  },
  {
   "cell_type": "markdown",
   "id": "bc9a0c9e",
   "metadata": {},
   "source": [
    "**As one might expect, there’s a correlation between daily steps and calories. The more steps taken, the more calories one may burn.**\n",
    "\n",
    "A correlation coefficient of 0.41 between Total Steps and Calories suggests a moderate positive relationship between the two variables. This means that as the number of steps increases, the number of calories burned tends to increase as well, though the relationship is not very strong.\n",
    "\n",
    "In practical terms, while there is a general trend where people who take more steps also burn more calories, other factors could also be influencing calorie burn, and the steps alone don't fully explain the variation in calories burned."
   ]
  },
  {
   "cell_type": "markdown",
   "id": "8c7d3150",
   "metadata": {},
   "source": [
    "**Creating a scatter plot to visualize the relationship between the ‘Total Minutes Asleep’ and ‘Total Time in Bed’ variables.**"
   ]
  },
  {
   "cell_type": "code",
   "execution_count": null,
   "id": "a18e9423",
   "metadata": {},
   "outputs": [],
   "source": [
    "# Create a scatter plot\n",
    "plt.figure(figsize=(10, 6))\n",
    "plt.scatter(daily_activity_sleep['TotalMinutesAsleep'], daily_activity_sleep['TotalTimeInBed'], alpha=0.5)\n",
    "plt.title('Relationship between Total Minutes Asleep and Total Time in Bed')\n",
    "plt.xlabel('Total Minutes Asleep')\n",
    "plt.ylabel('Total Time in Bed (minutes)')\n",
    "plt.grid(True, linestyle='--', alpha=0.7)\n",
    "\n",
    "# Add a trend line\n",
    "z = np.polyfit(daily_activity_sleep['TotalMinutesAsleep'], daily_activity_sleep['TotalTimeInBed'], 1)\n",
    "p = np.poly1d(z)\n",
    "plt.plot(daily_activity_sleep['TotalMinutesAsleep'], p(daily_activity_sleep['TotalMinutesAsleep']), \"r--\", alpha=0.8)\n",
    "\n",
    "# Add a diagonal line representing perfect equality\n",
    "min_val = min(daily_activity_sleep['TotalMinutesAsleep'].min(), daily_activity_sleep['TotalTimeInBed'].min())\n",
    "max_val = max(daily_activity_sleep['TotalMinutesAsleep'].max(), daily_activity_sleep['TotalTimeInBed'].max())\n",
    "plt.plot([min_val, max_val], [min_val, max_val], 'g--', alpha=0.8, label='Perfect Equality')\n",
    "\n",
    "plt.legend()\n",
    "plt.tight_layout()\n",
    "plt.show()\n",
    "\n",
    "# Calculate the correlation coefficient\n",
    "correlation = daily_activity_sleep['TotalMinutesAsleep'].corr(daily_activity_sleep['TotalTimeInBed'])\n",
    "print(f\"Correlation coefficient between Total Minutes Asleep and Total Time in Bed: {correlation:.2f}\")"
   ]
  },
  {
   "cell_type": "markdown",
   "id": "1dc8b3dd",
   "metadata": {},
   "source": [
    "The strong positive correlation (0.93) between Total Minutes Asleep and Total Time in Bed means that there is a very close relationship between the amount of time users spend in bed and the time they actually spend sleeping. \n",
    "\n",
    "In other words, most of the time users spend in bed is used for sleeping, indicating efficient sleep patterns. A correlation of 0.93 suggests that as the time spent in bed increases, the time spent asleep also increases in a very consistent manner.\n",
    "\n",
    "# Insights\n",
    "Maintain Consistent Bedtimes: Try to go to bed and wake up at the same time every day, even on weekends. Consistency helps regulate your internal clock and improves sleep quality."
   ]
  },
  {
   "cell_type": "markdown",
   "id": "8141546f",
   "metadata": {},
   "source": [
    "**Analyzing Hourly Patterns in Total Intensity with a Bar Chart**"
   ]
  },
  {
   "cell_type": "code",
   "execution_count": null,
   "id": "afdc36a5",
   "metadata": {},
   "outputs": [],
   "source": [
    "# Group by hour and calculate mean total intensity\n",
    "hourly_intensities = intensities_df.groupby('Hour')['TotalIntensity'].mean().reset_index()\n",
    "\n",
    "# Convert Hour to datetime for proper ordering\n",
    "hourly_intensities['Hour'] = pd.to_datetime(hourly_intensities['Hour'], format='%H:%M:%S')\n",
    "\n",
    "# Sort by hour\n",
    "hourly_intensities = hourly_intensities.sort_values('Hour')\n",
    "\n",
    "# Create the bar chart\n",
    "plt.figure(figsize=(12, 6))\n",
    "plt.bar(hourly_intensities['Hour'], hourly_intensities['TotalIntensity'], width=0.02, align='center')\n",
    "\n",
    "plt.title('Total Intensity Throughout the Day')\n",
    "plt.xlabel('Time of Day')\n",
    "plt.ylabel('Total Intensity')\n",
    "\n",
    "# Format x-axis to show hours\n",
    "plt.gca().xaxis.set_major_formatter(plt.matplotlib.dates.DateFormatter('%H:%M'))\n",
    "plt.gcf().autofmt_xdate()  # Rotation\n",
    "\n",
    "plt.grid(True, linestyle='--', alpha=0.7, axis='y')\n",
    "plt.tight_layout()\n",
    "plt.show()"
   ]
  },
  {
   "cell_type": "markdown",
   "id": "f5597c96",
   "metadata": {},
   "source": [
    "* After analyzing the hourly Total Intensity data, it’s evident that individuals tend to be more active from 5 am to 10 pm.\n",
    "* The peak of physical activity occurs between 5 pm and 7 pm, possibly suggesting that people engage in exercise or outdoor activities after their workday."
   ]
  },
  {
   "cell_type": "markdown",
   "id": "9374bb09",
   "metadata": {},
   "source": [
    "# Insights:\n",
    "\n",
    "* Consider planning your workouts or physical activities between 5 pm and 7 pm, as this is when most people tend to be most active. Engaging in exercise during these hours can help you align with natural energy levels and maximize your workout efficiency.\n",
    "* If you're active in the early morning hours (from 5 am), incorporate a morning exercise routine to boost your energy and set a positive tone for the day. Morning activity can improve focus and productivity throughout the day.\n",
    "* If you're active in the evening, consider incorporating calming exercises like yoga or a gentle walk after 7 pm to help wind down and prepare your body for restful sleep.\n",
    "\n"
   ]
  },
  {
   "cell_type": "code",
   "execution_count": null,
   "id": "2419dd8b",
   "metadata": {},
   "outputs": [],
   "source": [
    "\n"
   ]
  }
 ],
 "metadata": {
  "kernelspec": {
   "display_name": "Python 3 (ipykernel)",
   "language": "python",
   "name": "python3"
  },
  "language_info": {
   "codemirror_mode": {
    "name": "ipython",
    "version": 3
   },
   "file_extension": ".py",
   "mimetype": "text/x-python",
   "name": "python",
   "nbconvert_exporter": "python",
   "pygments_lexer": "ipython3",
   "version": "3.11.5"
  }
 },
 "nbformat": 4,
 "nbformat_minor": 5
}
